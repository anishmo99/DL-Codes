{
  "nbformat": 4,
  "nbformat_minor": 0,
  "metadata": {
    "accelerator": "GPU",
    "colab": {
      "name": "CNN Horse vs Human Augmentation.ipynb",
      "provenance": [],
      "collapsed_sections": [],
      "include_colab_link": true
    },
    "kernelspec": {
      "display_name": "Python 3",
      "name": "python3"
    }
  },
  "cells": [
    {
      "cell_type": "markdown",
      "metadata": {
        "id": "view-in-github",
        "colab_type": "text"
      },
      "source": [
        "<a href=\"https://colab.research.google.com/github/anishmo99/Deep-Learning/blob/master/CNN_Horse_vs_Human_Augmentation.ipynb\" target=\"_parent\"><img src=\"https://colab.research.google.com/assets/colab-badge.svg\" alt=\"Open In Colab\"/></a>"
      ]
    },
    {
      "cell_type": "markdown",
      "metadata": {
        "id": "rX8mhOLljYeM"
      },
      "source": [
        "##### Copyright 2019 The TensorFlow Authors."
      ]
    },
    {
      "cell_type": "code",
      "metadata": {
        "cellView": "form",
        "id": "BZSlp3DAjdYf"
      },
      "source": [
        "#@title Licensed under the Apache License, Version 2.0 (the \"License\");\n",
        "# you may not use this file except in compliance with the License.\n",
        "# You may obtain a copy of the License at\n",
        "#\n",
        "# https://www.apache.org/licenses/LICENSE-2.0\n",
        "#\n",
        "# Unless required by applicable law or agreed to in writing, software\n",
        "# distributed under the License is distributed on an \"AS IS\" BASIS,\n",
        "# WITHOUT WARRANTIES OR CONDITIONS OF ANY KIND, either express or implied.\n",
        "# See the License for the specific language governing permissions and\n",
        "# limitations under the License."
      ],
      "execution_count": null,
      "outputs": []
    },
    {
      "cell_type": "code",
      "metadata": {
        "id": "RXZT2UsyIVe_",
        "outputId": "0c1b2d2b-bc98-40dd-8d4f-f0d42ceb6815",
        "colab": {
          "base_uri": "https://localhost:8080/",
          "height": 391
        }
      },
      "source": [
        "!wget --no-check-certificate \\\n",
        "    https://storage.googleapis.com/laurencemoroney-blog.appspot.com/horse-or-human.zip \\\n",
        "    -O /tmp/horse-or-human.zip\n",
        "\n",
        "!wget --no-check-certificate \\\n",
        "    https://storage.googleapis.com/laurencemoroney-blog.appspot.com/validation-horse-or-human.zip \\\n",
        "    -O /tmp/validation-horse-or-human.zip\n",
        "  \n",
        "import os\n",
        "import zipfile\n",
        "\n",
        "local_zip = '/tmp/horse-or-human.zip'\n",
        "zip_ref = zipfile.ZipFile(local_zip, 'r')\n",
        "zip_ref.extractall('/tmp/horse-or-human')\n",
        "local_zip = '/tmp/validation-horse-or-human.zip'\n",
        "zip_ref = zipfile.ZipFile(local_zip, 'r')\n",
        "zip_ref.extractall('/tmp/validation-horse-or-human')\n",
        "zip_ref.close()\n",
        "# Directory with our training horse pictures\n",
        "train_horse_dir = os.path.join('/tmp/horse-or-human/horses')\n",
        "\n",
        "# Directory with our training human pictures\n",
        "train_human_dir = os.path.join('/tmp/horse-or-human/humans')\n",
        "\n",
        "# Directory with our training horse pictures\n",
        "validation_horse_dir = os.path.join('/tmp/validation-horse-or-human/horses')\n",
        "\n",
        "# Directory with our training human pictures\n",
        "validation_human_dir = os.path.join('/tmp/validation-horse-or-human/humans')"
      ],
      "execution_count": null,
      "outputs": [
        {
          "output_type": "stream",
          "text": [
            "--2020-09-30 16:23:51--  https://storage.googleapis.com/laurencemoroney-blog.appspot.com/horse-or-human.zip\n",
            "Resolving storage.googleapis.com (storage.googleapis.com)... 173.194.79.128, 108.177.96.128, 108.177.119.128, ...\n",
            "Connecting to storage.googleapis.com (storage.googleapis.com)|173.194.79.128|:443... connected.\n",
            "HTTP request sent, awaiting response... 200 OK\n",
            "Length: 149574867 (143M) [application/zip]\n",
            "Saving to: ‘/tmp/horse-or-human.zip’\n",
            "\n",
            "/tmp/horse-or-human 100%[===================>] 142.65M  40.1MB/s    in 3.6s    \n",
            "\n",
            "2020-09-30 16:23:55 (40.1 MB/s) - ‘/tmp/horse-or-human.zip’ saved [149574867/149574867]\n",
            "\n",
            "--2020-09-30 16:23:55--  https://storage.googleapis.com/laurencemoroney-blog.appspot.com/validation-horse-or-human.zip\n",
            "Resolving storage.googleapis.com (storage.googleapis.com)... 108.177.119.128, 108.177.126.128, 108.177.127.128, ...\n",
            "Connecting to storage.googleapis.com (storage.googleapis.com)|108.177.119.128|:443... connected.\n",
            "HTTP request sent, awaiting response... 200 OK\n",
            "Length: 11480187 (11M) [application/zip]\n",
            "Saving to: ‘/tmp/validation-horse-or-human.zip’\n",
            "\n",
            "/tmp/validation-hor 100%[===================>]  10.95M  18.7MB/s    in 0.6s    \n",
            "\n",
            "2020-09-30 16:23:56 (18.7 MB/s) - ‘/tmp/validation-horse-or-human.zip’ saved [11480187/11480187]\n",
            "\n"
          ],
          "name": "stdout"
        }
      ]
    },
    {
      "cell_type": "markdown",
      "metadata": {
        "id": "5oqBkNBJmtUv"
      },
      "source": [
        "## Building a Small Model from Scratch\n",
        "\n",
        "But before we continue, let's start defining the model:\n",
        "\n",
        "Step 1 will be to import tensorflow."
      ]
    },
    {
      "cell_type": "code",
      "metadata": {
        "id": "qvfZg3LQbD-5"
      },
      "source": [
        "import tensorflow as tf"
      ],
      "execution_count": null,
      "outputs": []
    },
    {
      "cell_type": "markdown",
      "metadata": {
        "id": "BnhYCP4tdqjC"
      },
      "source": [
        "We then add convolutional layers as in the previous example, and flatten the final result to feed into the densely connected layers."
      ]
    },
    {
      "cell_type": "markdown",
      "metadata": {
        "id": "gokG5HKpdtzm"
      },
      "source": [
        "Finally we add the densely connected layers. \n",
        "\n",
        "Note that because we are facing a two-class classification problem, i.e. a *binary classification problem*, we will end our network with a [*sigmoid* activation](https://wikipedia.org/wiki/Sigmoid_function), so that the output of our network will be a single scalar between 0 and 1, encoding the probability that the current image is class 1 (as opposed to class 0)."
      ]
    },
    {
      "cell_type": "code",
      "metadata": {
        "id": "PixZ2s5QbYQ3"
      },
      "source": [
        "model = tf.keras.models.Sequential([\n",
        "    # Note the input shape is the desired size of the image 300x300 with 3 bytes color\n",
        "    # This is the first convolution\n",
        "    tf.keras.layers.Conv2D(16, (3,3), activation='relu', input_shape=(300, 300, 3)),\n",
        "    tf.keras.layers.MaxPooling2D(2, 2),\n",
        "    # The second convolution\n",
        "    tf.keras.layers.Conv2D(32, (3,3), activation='relu'),\n",
        "    tf.keras.layers.MaxPooling2D(2,2),\n",
        "    # The third convolution\n",
        "    tf.keras.layers.Conv2D(64, (3,3), activation='relu'),\n",
        "    tf.keras.layers.MaxPooling2D(2,2),\n",
        "    # The fourth convolution\n",
        "    tf.keras.layers.Conv2D(64, (3,3), activation='relu'),\n",
        "    tf.keras.layers.MaxPooling2D(2,2),\n",
        "    # The fifth convolution\n",
        "    tf.keras.layers.Conv2D(64, (3,3), activation='relu'),\n",
        "    tf.keras.layers.MaxPooling2D(2,2),\n",
        "    # Flatten the results to feed into a DNN\n",
        "    tf.keras.layers.Flatten(),\n",
        "    # 512 neuron hidden layer\n",
        "    tf.keras.layers.Dense(512, activation='relu'),\n",
        "    # Only 1 output neuron. It will contain a value from 0-1 where 0 for 1 class ('horses') and 1 for the other ('humans')\n",
        "    tf.keras.layers.Dense(1, activation='sigmoid')\n",
        "])"
      ],
      "execution_count": null,
      "outputs": []
    },
    {
      "cell_type": "code",
      "metadata": {
        "id": "8DHWhFP_uhq3"
      },
      "source": [
        "from tensorflow.keras.optimizers import RMSprop\n",
        "\n",
        "model.compile(loss='binary_crossentropy',\n",
        "              optimizer=RMSprop(lr=1e-4),\n",
        "              metrics=['accuracy'])"
      ],
      "execution_count": null,
      "outputs": []
    },
    {
      "cell_type": "code",
      "metadata": {
        "id": "ClebU9NJg99G",
        "outputId": "6c08d8fd-22d1-4beb-d138-177d2e599f4f",
        "colab": {
          "base_uri": "https://localhost:8080/",
          "height": 51
        }
      },
      "source": [
        "from tensorflow.keras.preprocessing.image import ImageDataGenerator\n",
        "\n",
        "# All images will be rescaled by 1./255\n",
        "train_datagen = ImageDataGenerator(\n",
        "      rescale=1./255,\n",
        "      rotation_range=40,\n",
        "      width_shift_range=0.2,\n",
        "      height_shift_range=0.2,\n",
        "      shear_range=0.2,\n",
        "      zoom_range=0.2,\n",
        "      horizontal_flip=True,\n",
        "      fill_mode='nearest')\n",
        "\n",
        "validation_datagen = ImageDataGenerator(rescale=1/255)\n",
        "\n",
        "# Flow training images in batches of 128 using train_datagen generator\n",
        "train_generator = train_datagen.flow_from_directory(\n",
        "        '/tmp/horse-or-human/',  # This is the source directory for training images\n",
        "        target_size=(300, 300),  # All images will be resized to 150x150\n",
        "        batch_size=128,\n",
        "        # Since we use binary_crossentropy loss, we need binary labels\n",
        "        class_mode='binary')\n",
        "\n",
        "# Flow training images in batches of 128 using train_datagen generator\n",
        "validation_generator = validation_datagen.flow_from_directory(\n",
        "        '/tmp/validation-horse-or-human/',  # This is the source directory for training images\n",
        "        target_size=(300, 300),  # All images will be resized to 150x150\n",
        "        batch_size=32,\n",
        "        # Since we use binary_crossentropy loss, we need binary labels\n",
        "        class_mode='binary')"
      ],
      "execution_count": null,
      "outputs": [
        {
          "output_type": "stream",
          "text": [
            "Found 1027 images belonging to 2 classes.\n",
            "Found 256 images belonging to 2 classes.\n"
          ],
          "name": "stdout"
        }
      ]
    },
    {
      "cell_type": "code",
      "metadata": {
        "id": "Fb1_lgobv81m",
        "outputId": "5b22305f-08fa-4ae5-9b8b-c82dc948d255",
        "colab": {
          "base_uri": "https://localhost:8080/",
          "height": 1000
        }
      },
      "source": [
        "history = model.fit(\n",
        "      train_generator,\n",
        "      steps_per_epoch=8,  \n",
        "      epochs=100,\n",
        "      verbose=1,\n",
        "      validation_data = validation_generator,\n",
        "      validation_steps=8)"
      ],
      "execution_count": null,
      "outputs": [
        {
          "output_type": "stream",
          "text": [
            "Epoch 1/100\n",
            "8/8 [==============================] - 16s 2s/step - loss: 0.6926 - accuracy: 0.4939 - val_loss: 0.6667 - val_accuracy: 0.6367\n",
            "Epoch 2/100\n",
            "8/8 [==============================] - 21s 3s/step - loss: 0.6675 - accuracy: 0.6875 - val_loss: 0.6177 - val_accuracy: 0.8047\n",
            "Epoch 3/100\n",
            "8/8 [==============================] - 21s 3s/step - loss: 0.6228 - accuracy: 0.7130 - val_loss: 0.6028 - val_accuracy: 0.6016\n",
            "Epoch 4/100\n",
            "8/8 [==============================] - 18s 2s/step - loss: 0.6150 - accuracy: 0.6574 - val_loss: 0.6327 - val_accuracy: 0.5586\n",
            "Epoch 5/100\n",
            "8/8 [==============================] - 18s 2s/step - loss: 0.6141 - accuracy: 0.6963 - val_loss: 0.5684 - val_accuracy: 0.6367\n",
            "Epoch 6/100\n",
            "8/8 [==============================] - 18s 2s/step - loss: 0.5489 - accuracy: 0.7275 - val_loss: 0.6080 - val_accuracy: 0.6133\n",
            "Epoch 7/100\n",
            "8/8 [==============================] - 18s 2s/step - loss: 0.5747 - accuracy: 0.7208 - val_loss: 0.4301 - val_accuracy: 0.8828\n",
            "Epoch 8/100\n",
            "8/8 [==============================] - 21s 3s/step - loss: 0.5434 - accuracy: 0.7471 - val_loss: 0.8175 - val_accuracy: 0.5352\n",
            "Epoch 9/100\n",
            "8/8 [==============================] - 18s 2s/step - loss: 0.5152 - accuracy: 0.7475 - val_loss: 0.7295 - val_accuracy: 0.5938\n",
            "Epoch 10/100\n",
            "8/8 [==============================] - 18s 2s/step - loss: 0.4916 - accuracy: 0.7553 - val_loss: 0.7801 - val_accuracy: 0.6094\n",
            "Epoch 11/100\n",
            "8/8 [==============================] - 18s 2s/step - loss: 0.5000 - accuracy: 0.7475 - val_loss: 0.9004 - val_accuracy: 0.5859\n",
            "Epoch 12/100\n",
            "8/8 [==============================] - 18s 2s/step - loss: 0.5540 - accuracy: 0.7464 - val_loss: 0.7579 - val_accuracy: 0.6172\n",
            "Epoch 13/100\n",
            "8/8 [==============================] - 20s 2s/step - loss: 0.4717 - accuracy: 0.7920 - val_loss: 0.8551 - val_accuracy: 0.6172\n",
            "Epoch 14/100\n",
            "8/8 [==============================] - 18s 2s/step - loss: 0.4762 - accuracy: 0.7798 - val_loss: 0.5975 - val_accuracy: 0.7617\n",
            "Epoch 15/100\n",
            "8/8 [==============================] - 18s 2s/step - loss: 0.5031 - accuracy: 0.7430 - val_loss: 0.9397 - val_accuracy: 0.6328\n",
            "Epoch 16/100\n",
            "8/8 [==============================] - 20s 3s/step - loss: 0.5089 - accuracy: 0.7464 - val_loss: 0.8150 - val_accuracy: 0.6562\n",
            "Epoch 17/100\n",
            "8/8 [==============================] - 18s 2s/step - loss: 0.4310 - accuracy: 0.8154 - val_loss: 0.9172 - val_accuracy: 0.6523\n",
            "Epoch 18/100\n",
            "8/8 [==============================] - 18s 2s/step - loss: 0.4504 - accuracy: 0.8065 - val_loss: 1.1231 - val_accuracy: 0.6250\n",
            "Epoch 19/100\n",
            "8/8 [==============================] - 20s 2s/step - loss: 0.3864 - accuracy: 0.8281 - val_loss: 1.0885 - val_accuracy: 0.6484\n",
            "Epoch 20/100\n",
            "8/8 [==============================] - 20s 3s/step - loss: 0.4047 - accuracy: 0.8109 - val_loss: 1.0852 - val_accuracy: 0.6602\n",
            "Epoch 21/100\n",
            "8/8 [==============================] - 18s 2s/step - loss: 0.4694 - accuracy: 0.7731 - val_loss: 1.2185 - val_accuracy: 0.6328\n",
            "Epoch 22/100\n",
            "8/8 [==============================] - 18s 2s/step - loss: 0.3866 - accuracy: 0.8331 - val_loss: 1.2597 - val_accuracy: 0.6328\n",
            "Epoch 23/100\n",
            "8/8 [==============================] - 18s 2s/step - loss: 0.4660 - accuracy: 0.8098 - val_loss: 1.2262 - val_accuracy: 0.6367\n",
            "Epoch 24/100\n",
            "8/8 [==============================] - 18s 2s/step - loss: 0.4057 - accuracy: 0.8053 - val_loss: 1.0665 - val_accuracy: 0.6641\n",
            "Epoch 25/100\n",
            "8/8 [==============================] - 18s 2s/step - loss: 0.3619 - accuracy: 0.8476 - val_loss: 1.0893 - val_accuracy: 0.6719\n",
            "Epoch 26/100\n",
            "8/8 [==============================] - 18s 2s/step - loss: 0.4228 - accuracy: 0.7942 - val_loss: 1.3561 - val_accuracy: 0.6289\n",
            "Epoch 27/100\n",
            "8/8 [==============================] - 18s 2s/step - loss: 0.3754 - accuracy: 0.8343 - val_loss: 1.1396 - val_accuracy: 0.6719\n",
            "Epoch 28/100\n",
            "8/8 [==============================] - 20s 3s/step - loss: 0.3455 - accuracy: 0.8487 - val_loss: 1.3383 - val_accuracy: 0.6445\n",
            "Epoch 29/100\n",
            "8/8 [==============================] - 18s 2s/step - loss: 0.3517 - accuracy: 0.8443 - val_loss: 1.3037 - val_accuracy: 0.6641\n",
            "Epoch 30/100\n",
            "8/8 [==============================] - 18s 2s/step - loss: 0.3272 - accuracy: 0.8554 - val_loss: 0.3577 - val_accuracy: 0.8750\n",
            "Epoch 31/100\n",
            "8/8 [==============================] - 20s 3s/step - loss: 0.3244 - accuracy: 0.8632 - val_loss: 1.5073 - val_accuracy: 0.6094\n",
            "Epoch 32/100\n",
            "8/8 [==============================] - 17s 2s/step - loss: 0.3093 - accuracy: 0.8754 - val_loss: 2.5748 - val_accuracy: 0.5273\n",
            "Epoch 33/100\n",
            "8/8 [==============================] - 17s 2s/step - loss: 0.3650 - accuracy: 0.8331 - val_loss: 1.5467 - val_accuracy: 0.6484\n",
            "Epoch 34/100\n",
            "8/8 [==============================] - 18s 2s/step - loss: 0.3038 - accuracy: 0.8765 - val_loss: 1.5983 - val_accuracy: 0.6367\n",
            "Epoch 35/100\n",
            "8/8 [==============================] - 18s 2s/step - loss: 0.3330 - accuracy: 0.8587 - val_loss: 0.9850 - val_accuracy: 0.7305\n",
            "Epoch 36/100\n",
            "8/8 [==============================] - 18s 2s/step - loss: 0.3221 - accuracy: 0.8565 - val_loss: 1.8961 - val_accuracy: 0.5977\n",
            "Epoch 37/100\n",
            "8/8 [==============================] - 20s 2s/step - loss: 0.2824 - accuracy: 0.8838 - val_loss: 1.7432 - val_accuracy: 0.6133\n",
            "Epoch 38/100\n",
            "8/8 [==============================] - 20s 2s/step - loss: 0.3341 - accuracy: 0.8496 - val_loss: 1.7754 - val_accuracy: 0.6055\n",
            "Epoch 39/100\n",
            "8/8 [==============================] - 18s 2s/step - loss: 0.2927 - accuracy: 0.8710 - val_loss: 2.3982 - val_accuracy: 0.5586\n",
            "Epoch 40/100\n",
            "8/8 [==============================] - 17s 2s/step - loss: 0.2903 - accuracy: 0.8754 - val_loss: 1.5836 - val_accuracy: 0.6562\n",
            "Epoch 41/100\n",
            "8/8 [==============================] - 18s 2s/step - loss: 0.3649 - accuracy: 0.8532 - val_loss: 1.5797 - val_accuracy: 0.6445\n",
            "Epoch 42/100\n",
            "8/8 [==============================] - 20s 2s/step - loss: 0.2535 - accuracy: 0.8955 - val_loss: 1.7308 - val_accuracy: 0.6367\n",
            "Epoch 43/100\n",
            "8/8 [==============================] - 18s 2s/step - loss: 0.2601 - accuracy: 0.9066 - val_loss: 1.7946 - val_accuracy: 0.6445\n",
            "Epoch 44/100\n",
            "8/8 [==============================] - 18s 2s/step - loss: 0.2444 - accuracy: 0.9032 - val_loss: 1.7726 - val_accuracy: 0.6562\n",
            "Epoch 45/100\n",
            "8/8 [==============================] - 18s 2s/step - loss: 0.2568 - accuracy: 0.8988 - val_loss: 2.6018 - val_accuracy: 0.5781\n",
            "Epoch 46/100\n",
            "8/8 [==============================] - 17s 2s/step - loss: 0.2661 - accuracy: 0.8966 - val_loss: 2.1426 - val_accuracy: 0.6055\n",
            "Epoch 47/100\n",
            "8/8 [==============================] - 17s 2s/step - loss: 0.2957 - accuracy: 0.8710 - val_loss: 2.0901 - val_accuracy: 0.6055\n",
            "Epoch 48/100\n",
            "8/8 [==============================] - 17s 2s/step - loss: 0.2024 - accuracy: 0.9299 - val_loss: 1.4819 - val_accuracy: 0.7070\n",
            "Epoch 49/100\n",
            "8/8 [==============================] - 18s 2s/step - loss: 0.2767 - accuracy: 0.8832 - val_loss: 2.6279 - val_accuracy: 0.5820\n",
            "Epoch 50/100\n",
            "8/8 [==============================] - 18s 2s/step - loss: 0.3717 - accuracy: 0.8632 - val_loss: 2.0644 - val_accuracy: 0.6133\n",
            "Epoch 51/100\n",
            "8/8 [==============================] - 17s 2s/step - loss: 0.2073 - accuracy: 0.9321 - val_loss: 2.5146 - val_accuracy: 0.5898\n",
            "Epoch 52/100\n",
            "8/8 [==============================] - 18s 2s/step - loss: 0.2145 - accuracy: 0.9132 - val_loss: 1.9909 - val_accuracy: 0.6523\n",
            "Epoch 53/100\n",
            "8/8 [==============================] - 17s 2s/step - loss: 0.2651 - accuracy: 0.8899 - val_loss: 1.9733 - val_accuracy: 0.6133\n",
            "Epoch 54/100\n",
            "8/8 [==============================] - 17s 2s/step - loss: 0.1739 - accuracy: 0.9377 - val_loss: 4.2256 - val_accuracy: 0.5039\n",
            "Epoch 55/100\n",
            "8/8 [==============================] - 18s 2s/step - loss: 0.2648 - accuracy: 0.8910 - val_loss: 2.4632 - val_accuracy: 0.5781\n",
            "Epoch 56/100\n",
            "8/8 [==============================] - 18s 2s/step - loss: 0.2450 - accuracy: 0.8921 - val_loss: 1.8525 - val_accuracy: 0.6523\n",
            "Epoch 57/100\n",
            "8/8 [==============================] - 20s 2s/step - loss: 0.2299 - accuracy: 0.9004 - val_loss: 1.6498 - val_accuracy: 0.6758\n",
            "Epoch 58/100\n",
            "8/8 [==============================] - 20s 3s/step - loss: 0.1861 - accuracy: 0.9333 - val_loss: 2.4249 - val_accuracy: 0.5938\n",
            "Epoch 59/100\n",
            "8/8 [==============================] - 18s 2s/step - loss: 0.3073 - accuracy: 0.8610 - val_loss: 2.3496 - val_accuracy: 0.5898\n",
            "Epoch 60/100\n",
            "8/8 [==============================] - 18s 2s/step - loss: 0.2943 - accuracy: 0.8943 - val_loss: 2.4599 - val_accuracy: 0.5977\n",
            "Epoch 61/100\n",
            "8/8 [==============================] - 17s 2s/step - loss: 0.1858 - accuracy: 0.9321 - val_loss: 2.0096 - val_accuracy: 0.6406\n",
            "Epoch 62/100\n",
            "8/8 [==============================] - 17s 2s/step - loss: 0.1757 - accuracy: 0.9355 - val_loss: 2.3920 - val_accuracy: 0.6055\n",
            "Epoch 63/100\n",
            "8/8 [==============================] - 20s 2s/step - loss: 0.2150 - accuracy: 0.9033 - val_loss: 2.0218 - val_accuracy: 0.6523\n",
            "Epoch 64/100\n",
            "8/8 [==============================] - 17s 2s/step - loss: 0.2660 - accuracy: 0.8999 - val_loss: 1.6230 - val_accuracy: 0.6758\n",
            "Epoch 65/100\n",
            "8/8 [==============================] - 20s 3s/step - loss: 0.1802 - accuracy: 0.9299 - val_loss: 1.9873 - val_accuracy: 0.6680\n",
            "Epoch 66/100\n",
            "8/8 [==============================] - 20s 2s/step - loss: 0.1966 - accuracy: 0.9346 - val_loss: 1.1752 - val_accuracy: 0.7383\n",
            "Epoch 67/100\n",
            "8/8 [==============================] - 18s 2s/step - loss: 0.2626 - accuracy: 0.8810 - val_loss: 2.4621 - val_accuracy: 0.6250\n",
            "Epoch 68/100\n",
            "8/8 [==============================] - 18s 2s/step - loss: 0.1928 - accuracy: 0.9199 - val_loss: 1.6167 - val_accuracy: 0.6914\n",
            "Epoch 69/100\n",
            "8/8 [==============================] - 18s 2s/step - loss: 0.1572 - accuracy: 0.9466 - val_loss: 2.4769 - val_accuracy: 0.6367\n",
            "Epoch 70/100\n",
            "8/8 [==============================] - 18s 2s/step - loss: 0.2092 - accuracy: 0.9232 - val_loss: 2.4040 - val_accuracy: 0.6406\n",
            "Epoch 71/100\n",
            "8/8 [==============================] - 18s 2s/step - loss: 0.2820 - accuracy: 0.8932 - val_loss: 1.4929 - val_accuracy: 0.7070\n",
            "Epoch 72/100\n",
            "8/8 [==============================] - 18s 2s/step - loss: 0.1591 - accuracy: 0.9422 - val_loss: 2.7044 - val_accuracy: 0.6289\n",
            "Epoch 73/100\n",
            "8/8 [==============================] - 17s 2s/step - loss: 0.2052 - accuracy: 0.9244 - val_loss: 2.0279 - val_accuracy: 0.6680\n",
            "Epoch 74/100\n",
            "8/8 [==============================] - 20s 3s/step - loss: 0.1842 - accuracy: 0.9210 - val_loss: 2.8252 - val_accuracy: 0.6094\n",
            "Epoch 75/100\n",
            "8/8 [==============================] - 20s 3s/step - loss: 0.1541 - accuracy: 0.9477 - val_loss: 2.5636 - val_accuracy: 0.6328\n",
            "Epoch 76/100\n",
            "8/8 [==============================] - 18s 2s/step - loss: 0.1974 - accuracy: 0.9221 - val_loss: 1.5052 - val_accuracy: 0.7305\n",
            "Epoch 77/100\n",
            "8/8 [==============================] - 18s 2s/step - loss: 0.1502 - accuracy: 0.9422 - val_loss: 2.5917 - val_accuracy: 0.6562\n",
            "Epoch 78/100\n",
            "8/8 [==============================] - 20s 3s/step - loss: 0.1878 - accuracy: 0.9221 - val_loss: 2.2464 - val_accuracy: 0.6680\n",
            "Epoch 79/100\n",
            "8/8 [==============================] - 20s 2s/step - loss: 0.1526 - accuracy: 0.9395 - val_loss: 0.7942 - val_accuracy: 0.8164\n",
            "Epoch 80/100\n",
            "8/8 [==============================] - 17s 2s/step - loss: 0.2249 - accuracy: 0.9099 - val_loss: 1.9916 - val_accuracy: 0.6680\n",
            "Epoch 81/100\n",
            "8/8 [==============================] - 18s 2s/step - loss: 0.1376 - accuracy: 0.9466 - val_loss: 2.3857 - val_accuracy: 0.6562\n",
            "Epoch 82/100\n",
            "8/8 [==============================] - 18s 2s/step - loss: 0.2154 - accuracy: 0.9232 - val_loss: 2.2012 - val_accuracy: 0.6680\n",
            "Epoch 83/100\n",
            "8/8 [==============================] - 18s 2s/step - loss: 0.1527 - accuracy: 0.9388 - val_loss: 2.8775 - val_accuracy: 0.6250\n",
            "Epoch 84/100\n",
            "8/8 [==============================] - 18s 2s/step - loss: 0.1259 - accuracy: 0.9522 - val_loss: 2.9022 - val_accuracy: 0.6484\n",
            "Epoch 85/100\n",
            "8/8 [==============================] - 18s 2s/step - loss: 0.2187 - accuracy: 0.9121 - val_loss: 2.5493 - val_accuracy: 0.6523\n",
            "Epoch 86/100\n",
            "8/8 [==============================] - 18s 2s/step - loss: 0.1466 - accuracy: 0.9455 - val_loss: 2.5140 - val_accuracy: 0.6602\n",
            "Epoch 87/100\n",
            "8/8 [==============================] - 18s 2s/step - loss: 0.1249 - accuracy: 0.9600 - val_loss: 1.5107 - val_accuracy: 0.7383\n",
            "Epoch 88/100\n",
            "8/8 [==============================] - 18s 2s/step - loss: 0.1613 - accuracy: 0.9288 - val_loss: 2.4006 - val_accuracy: 0.6602\n",
            "Epoch 89/100\n",
            "8/8 [==============================] - 18s 2s/step - loss: 0.3097 - accuracy: 0.9043 - val_loss: 3.0184 - val_accuracy: 0.6289\n",
            "Epoch 90/100\n",
            "8/8 [==============================] - 17s 2s/step - loss: 0.1155 - accuracy: 0.9566 - val_loss: 3.5517 - val_accuracy: 0.5898\n",
            "Epoch 91/100\n",
            "8/8 [==============================] - 17s 2s/step - loss: 0.1233 - accuracy: 0.9588 - val_loss: 2.8455 - val_accuracy: 0.6523\n",
            "Epoch 92/100\n",
            "8/8 [==============================] - 18s 2s/step - loss: 0.1744 - accuracy: 0.9277 - val_loss: 2.6486 - val_accuracy: 0.6523\n",
            "Epoch 93/100\n",
            "8/8 [==============================] - 17s 2s/step - loss: 0.0949 - accuracy: 0.9700 - val_loss: 2.1263 - val_accuracy: 0.6953\n",
            "Epoch 94/100\n",
            "8/8 [==============================] - 17s 2s/step - loss: 0.1786 - accuracy: 0.9232 - val_loss: 3.6071 - val_accuracy: 0.5977\n",
            "Epoch 95/100\n",
            "8/8 [==============================] - 17s 2s/step - loss: 0.1190 - accuracy: 0.9611 - val_loss: 4.9557 - val_accuracy: 0.5430\n",
            "Epoch 96/100\n",
            "8/8 [==============================] - 18s 2s/step - loss: 0.1494 - accuracy: 0.9377 - val_loss: 2.2443 - val_accuracy: 0.6797\n",
            "Epoch 97/100\n",
            "8/8 [==============================] - 20s 3s/step - loss: 0.1388 - accuracy: 0.9444 - val_loss: 3.0048 - val_accuracy: 0.6484\n",
            "Epoch 98/100\n",
            "8/8 [==============================] - 18s 2s/step - loss: 0.1456 - accuracy: 0.9399 - val_loss: 2.3167 - val_accuracy: 0.6680\n",
            "Epoch 99/100\n",
            "8/8 [==============================] - 18s 2s/step - loss: 0.2365 - accuracy: 0.9155 - val_loss: 2.6543 - val_accuracy: 0.6406\n",
            "Epoch 100/100\n",
            "8/8 [==============================] - 18s 2s/step - loss: 0.1109 - accuracy: 0.9566 - val_loss: 2.4377 - val_accuracy: 0.6680\n"
          ],
          "name": "stdout"
        }
      ]
    },
    {
      "cell_type": "code",
      "metadata": {
        "id": "7zNPRWOVJdOH",
        "outputId": "9e8bfc16-c4d1-45d2-954c-79c69024d0bc",
        "colab": {
          "base_uri": "https://localhost:8080/",
          "height": 545
        }
      },
      "source": [
        "import matplotlib.pyplot as plt\n",
        "acc = history.history['accuracy']\n",
        "val_acc = history.history['val_accuracy']\n",
        "loss = history.history['loss']\n",
        "val_loss = history.history['val_loss']\n",
        "\n",
        "epochs = range(len(acc))\n",
        "\n",
        "plt.plot(epochs, acc, 'r', label='Training accuracy')\n",
        "plt.plot(epochs, val_acc, 'b', label='Validation accuracy')\n",
        "plt.title('Training and validation accuracy')\n",
        "\n",
        "plt.figure()\n",
        "\n",
        "plt.plot(epochs, loss, 'r', label='Training Loss')\n",
        "plt.plot(epochs, val_loss, 'b', label='Validation Loss')\n",
        "plt.title('Training and validation loss')\n",
        "plt.legend()\n",
        "\n",
        "plt.show()"
      ],
      "execution_count": null,
      "outputs": [
        {
          "output_type": "display_data",
          "data": {
            "image/png": "[encoded data removed]",
            "text/plain": [
              "<Figure size 432x288 with 1 Axes>"
            ]
          },
          "metadata": {
            "tags": [],
            "needs_background": "light"
          }
        },
        {
          "output_type": "display_data",
          "data": {
            "image/png": "[encoded data removed]",
            "text/plain": [
              "<Figure size 432x288 with 1 Axes>"
            ]
          },
          "metadata": {
            "tags": [],
            "needs_background": "light"
          }
        }
      ]
    }
  ]
}
